{
  "cells": [
    {
      "cell_type": "markdown",
      "metadata": {
        "id": "UMdXvWGD-o-X"
      },
      "source": [
        "## GROUND STATE ENERGY FOR SMALL PEPTIDES"
      ]
    },
    {
      "cell_type": "code",
      "execution_count": null,
      "metadata": {
        "colab": {
          "base_uri": "https://localhost:8080/"
        },
        "id": "cdNFyUQgLjiT",
        "outputId": "0c500792-6e90-4377-af70-c7b72cd41599"
      },
      "outputs": [
        {
          "output_type": "stream",
          "name": "stdout",
          "text": [
            "Requirement already satisfied: pyscf in /usr/local/lib/python3.10/dist-packages (2.7.0)\n",
            "Requirement already satisfied: numpy!=1.16,!=1.17,>=1.13 in /usr/local/lib/python3.10/dist-packages (from pyscf) (1.26.4)\n",
            "Requirement already satisfied: scipy>=1.6.0 in /usr/local/lib/python3.10/dist-packages (from pyscf) (1.13.1)\n",
            "Requirement already satisfied: h5py>=2.7 in /usr/local/lib/python3.10/dist-packages (from pyscf) (3.12.1)\n",
            "Requirement already satisfied: setuptools in /usr/local/lib/python3.10/dist-packages (from pyscf) (75.1.0)\n"
          ]
        }
      ],
      "source": [
        "pip install pyscf"
      ]
    },
    {
      "cell_type": "code",
      "execution_count": null,
      "metadata": {
        "colab": {
          "base_uri": "https://localhost:8080/"
        },
        "id": "4v2WQZAwNXaA",
        "outputId": "313ed3d5-ccfb-4290-9d13-b929f558fdb2"
      },
      "outputs": [
        {
          "output_type": "stream",
          "name": "stdout",
          "text": [
            "converged SCF energy = -521.820468768066\n",
            "GSE: -521.8204687680665 Hartrees\n"
          ]
        }
      ],
      "source": [
        "from pyscf import gto, scf\n",
        "\n",
        "#gly-ala\n",
        "new_geometry = \"\"\"\n",
        "O   -1.8905    1.6973    0.2100\n",
        "O    1.7277   -1.1657   -0.8196\n",
        "O   -3.2668    0.1023   -0.6122\n",
        "N    0.2075    0.1284    0.3672\n",
        "N    3.6993    0.6711   -0.2916\n",
        "C   -0.9970   -0.5351   -0.0783\n",
        "C   -1.3487   -1.6864    0.8516\n",
        "C    1.4787   -0.2454   -0.0440\n",
        "C   -2.1642    0.4318   -0.1879\n",
        "C    2.5541    0.6018    0.6047\n",
        "H   -0.8111   -0.9210   -1.0876\n",
        "H    0.1082    0.8856    1.0375\n",
        "H   -2.2438   -2.2144    0.5060\n",
        "H   -0.5290   -2.4105    0.9106\n",
        "H   -1.5484   -1.3260    1.8673\n",
        "H    2.8402    0.1404    1.5546\n",
        "H    2.1875    1.6133    0.8048\n",
        "H    3.4171    1.0727   -1.1847\n",
        "H    4.0410   -0.2681   -0.4915\n",
        "H   -2.6688    2.2872    0.1178\n",
        "\"\"\"\n",
        "\n",
        "mol = gto.M(atom=new_geometry, basis='sto-3g')\n",
        "\n",
        "mf = scf.RHF(mol)\n",
        "energy = mf.kernel()\n",
        "\n",
        "print(f\"GSE: {energy} Hartrees\")\n"
      ]
    },
    {
      "cell_type": "code",
      "execution_count": null,
      "metadata": {
        "colab": {
          "base_uri": "https://localhost:8080/"
        },
        "id": "zpSv1be2L07o",
        "outputId": "066dbb21-73ba-4cfc-a41e-3b885f37192c"
      },
      "outputs": [
        {
          "output_type": "stream",
          "name": "stdout",
          "text": [
            "converged SCF energy = -483.237793670553\n",
            "GSE: -483.23779367055266 Hartrees\n"
          ]
        }
      ],
      "source": [
        "\n",
        "# gly-gly\n",
        "geometry = \"\"\"\n",
        "O    1.1192   -0.9807    0.9350\n",
        "O   -1.6980    1.2320    0.5903\n",
        "O   -3.2962   -0.3376    0.2304\n",
        "N    0.1194    0.0665   -0.8809\n",
        "N    3.5584    0.0170    0.1638\n",
        "C   -1.1505   -0.6217   -0.8231\n",
        "C    1.1558   -0.1725    0.0097\n",
        "C    2.3540    0.7121   -0.2674\n",
        "C   -2.1620    0.0850    0.0422\n",
        "H   -0.9953   -1.6290   -0.4254\n",
        "H   -1.5383   -0.6729   -1.8442\n",
        "H    0.2322    0.7805   -1.5946\n",
        "H    2.2350    1.6486    0.2858\n",
        "H    2.4304    0.9444   -1.3339\n",
        "H    3.6446   -0.8687   -0.3332\n",
        "H    3.4912   -0.2124    1.1546\n",
        "H   -2.3743    1.6726    1.1478\n",
        "\"\"\"\n",
        "\n",
        "mol = gto.M(atom=geometry, basis='sto-3g')\n",
        "\n",
        "mf = scf.RHF(mol)\n",
        "energy = mf.kernel()\n",
        "\n",
        "print(f\"GSE: {energy} Hartrees\")"
      ]
    },
    {
      "cell_type": "code",
      "execution_count": null,
      "metadata": {
        "colab": {
          "base_uri": "https://localhost:8080/"
        },
        "id": "2FzQB7YdOHWa",
        "outputId": "d7853046-2c8e-4199-ffea-c4f59b509731"
      },
      "outputs": [
        {
          "output_type": "stream",
          "name": "stdout",
          "text": [
            "converged SCF energy = -595.64593360402\n",
            "GSE: -595.6459336040195 Hartrees\n"
          ]
        }
      ],
      "source": [
        "\n",
        "\n",
        "# gly-ser\n",
        "new_geometry = \"\"\"\n",
        "O   -1.6104   -1.9191    0.8894\n",
        "O   -2.7055    1.2947   -0.9551\n",
        "O    1.9051   -0.3647   -1.3755\n",
        "O   -2.0502    1.1089    1.2100\n",
        "N    0.3449    0.0535    0.2933\n",
        "N    3.8899    0.6451    0.2309\n",
        "C   -0.8447   -0.1246   -0.5084\n",
        "C   -1.3440   -1.5612   -0.4612\n",
        "C    1.6300   -0.0826   -0.2113\n",
        "C   -1.8972    0.8221    0.0297\n",
        "C    2.6820    0.1281    0.8581\n",
        "H   -0.6074    0.1581   -1.5405\n",
        "H   -0.5904   -2.2503   -0.8561\n",
        "H   -2.2684   -1.6750   -1.0367\n",
        "H    0.2248    0.2518    1.2829\n",
        "H    2.8851   -0.8303    1.3455\n",
        "H    2.3337    0.8373    1.6153\n",
        "H   -1.9256   -2.8390    0.8835\n",
        "H    3.6847    1.5215   -0.2472\n",
        "H    4.2159   -0.0049   -0.4832\n",
        "H   -3.4007    1.8904   -0.6027\n",
        "\"\"\"\n",
        "\n",
        "mol = gto.M(atom=new_geometry, basis='sto-3g')\n",
        "\n",
        "mf = scf.RHF(mol)\n",
        "energy = mf.kernel()\n",
        "\n",
        "print(f\"GSE: {energy} Hartrees\")\n"
      ]
    },
    {
      "cell_type": "code",
      "execution_count": null,
      "metadata": {
        "colab": {
          "base_uri": "https://localhost:8080/"
        },
        "id": "EtWJgcClkWg2",
        "outputId": "fcdbe84b-f589-4c74-df3f-2d523c29fb93"
      },
      "outputs": [
        {
          "output_type": "stream",
          "name": "stdout",
          "text": [
            "converged SCF energy = -781.244200938926\n",
            "GSE: -781.2442009389265 Hartrees\n"
          ]
        }
      ],
      "source": [
        "\n",
        "# carnosine\n",
        "new_geometry = \"\"\"\n",
        "O   -1.1827    2.8969   -0.5876\n",
        "O   -1.8901    0.1543    1.4985\n",
        "O    0.7136    3.5022    0.4837\n",
        "N   -0.6950    0.3333   -0.4828\n",
        "N    1.7643   -1.5529   -0.3956\n",
        "N    3.7922   -1.9187    0.4324\n",
        "N   -4.8172   -2.2295   -0.4376\n",
        "C    0.3726    1.1474    0.0471\n",
        "C    1.6855    0.9161   -0.7134\n",
        "C    2.3783   -0.3605   -0.2965\n",
        "C   -1.7519   -0.0994    0.3048\n",
        "C   -2.7379   -0.9368   -0.4903\n",
        "C    0.0023    2.6229    0.0089\n",
        "C    3.6100   -0.5774    0.2062\n",
        "C   -3.9062   -1.4202    0.3623\n",
        "C    2.6623   -2.4776    0.0599\n",
        "H    0.4928    0.8974    1.1094\n",
        "H    2.3792    1.7478   -0.5340\n",
        "H    1.5096    0.8913   -1.7969\n",
        "H   -0.7045    0.1328   -1.4791\n",
        "H   -3.1047   -0.3280   -1.3261\n",
        "H   -2.1952   -1.7931   -0.9100\n",
        "H    0.8301   -1.7409   -0.7360\n",
        "H   -4.4492   -0.5662    0.7827\n",
        "H   -3.5386   -2.0187    1.2031\n",
        "H    4.3890    0.1382    0.4251\n",
        "H    2.4323   -3.5331    0.0937\n",
        "H   -5.1893   -1.6711   -1.2048\n",
        "H   -5.6173   -2.5010    0.1323\n",
        "H   -1.3805    3.8576   -0.5864\n",
        "\"\"\"\n",
        "\n",
        "mol = gto.M(atom=new_geometry, basis='sto-3g')\n",
        "\n",
        "mf = scf.RHF(mol)\n",
        "energy = mf.kernel()\n",
        "\n",
        "print(f\"GSE: {energy} Hartrees\")\n"
      ]
    },
    {
      "cell_type": "code",
      "execution_count": null,
      "metadata": {
        "colab": {
          "base_uri": "https://localhost:8080/"
        },
        "id": "xbZUJe-YlrC1",
        "outputId": "b51473b2-1a4b-403d-af7b-26172c4d151a"
      },
      "outputs": [
        {
          "output_type": "stream",
          "name": "stdout",
          "text": [
            "converged SCF energy = -1010.809540101\n",
            "GSE: -1010.8095401009966 Hartrees\n"
          ]
        }
      ],
      "source": [
        "\n",
        "# aspartame\n",
        "new_geometry = \"\"\"\n",
        "   O   -1.8337    2.9115   -0.4575\n",
        "   O    2.1213   -0.0281   -1.6083\n",
        "   O   -0.9281    2.0358    1.4665\n",
        "   O    5.6253    0.4131   -0.4127\n",
        "   O    4.1389    0.9708    1.2123\n",
        "   N    0.5352    0.1671    0.0723\n",
        "   N    1.9540   -2.5588    0.2571\n",
        "   C   -0.3657    1.0282   -0.6567\n",
        "   C   -1.3701    0.2130   -1.4846\n",
        "   C    2.4857   -1.2131    0.4761\n",
        "   C   -2.3150   -0.6407   -0.6694\n",
        "   C    1.7229   -0.2954   -0.4765\n",
        "   C   -1.0587    2.0398    0.2466\n",
        "   C    3.9887   -1.2164    0.1958\n",
        "   C   -1.9526   -1.9395   -0.3540\n",
        "   C   -3.5233   -0.1063   -0.2544\n",
        "   C   -2.8240   -2.7271    0.3982\n",
        "   C   -4.3947   -0.8940    0.4979\n",
        "   C    4.5756    0.1586    0.4068\n",
        "   C   -4.0450   -2.2044    0.8242\n",
        "   C   -2.5367    3.8858    0.3204\n",
        "   H    0.2467    1.6211   -1.3488\n",
        "   H   -1.9631    0.8843   -2.1203\n",
        "   H   -0.8274   -0.4345   -2.1872\n",
        "   H    0.2702   -0.1236    1.0091\n",
        "   H    2.2977   -0.9132    1.5135\n",
        "   H    4.5133   -1.9106    0.8620\n",
        "   H    4.1856   -1.5215   -0.8397\n",
        "   H   -1.0113   -2.3603   -0.6923\n",
        "   H   -3.8117    0.9091   -0.5082\n",
        "   H    0.9541   -2.5729    0.4494\n",
        "   H    2.0719   -2.8319   -0.7176\n",
        "   H   -2.5530   -3.7484    0.6495\n",
        "   H   -5.3463   -0.4877    0.8280\n",
        "   H   -4.7240   -2.8181    1.4089\n",
        "   H   -3.2243    3.3922    1.0138\n",
        "   H   -3.1171    4.5115   -0.3628\n",
        "   H   -1.8289    4.5201    0.8624\n",
        "   H    5.9882    1.3139   -0.2742\n",
        "\"\"\"\n",
        "\n",
        "\n",
        "mol = gto.M(atom=new_geometry, basis='sto-3g')\n",
        "\n",
        "mf = scf.RHF(mol)\n",
        "energy = mf.kernel()\n",
        "\n",
        "print(f\"GSE: {energy} Hartrees\")\n"
      ]
    },
    {
      "cell_type": "code",
      "execution_count": null,
      "metadata": {
        "colab": {
          "base_uri": "https://localhost:8080/"
        },
        "id": "OkoNx8Nt12Z7",
        "outputId": "3f56b686-3ec2-4948-ab1a-7c44e3fb93b2"
      },
      "outputs": [
        {
          "output_type": "stream",
          "name": "stdout",
          "text": [
            "converged SCF energy = -1420.58943371711\n",
            "GSE: -1420.5894337171105 Hartrees\n"
          ]
        }
      ],
      "source": [
        "\n",
        "# cystine\n",
        "\n",
        "atoms = \"\"\"\n",
        "    S   -0.4126   -0.2308    0.9457\n",
        "    S    0.4167   -0.2255   -0.9335\n",
        "    O   -3.2409   -1.5942   -1.0036\n",
        "    O    3.2471   -1.5935    1.0015\n",
        "    O   -4.0463   -0.8876    0.9959\n",
        "    O    4.0421   -0.8862   -1.0019\n",
        "    N   -3.7666    1.6853   -0.4069\n",
        "    N    3.7656    1.6866    0.4017\n",
        "    C   -2.7275    0.6575   -0.3169\n",
        "    C    2.7276    0.6574    0.3168\n",
        "    C   -1.7150    1.0301    0.7677\n",
        "    C    1.7095    1.0285   -0.7631\n",
        "    C   -3.4158   -0.6642   -0.0311\n",
        "    C    3.4162   -0.6634    0.0279\n",
        "    H   -2.2525    0.6060   -1.3016\n",
        "    H    2.2636    0.6043    1.3063\n",
        "    H   -1.2455    1.9981    0.5588\n",
        "    H   -2.2087    1.1165    1.7427\n",
        "    H    1.2428    1.9974   -0.5517\n",
        "    H    2.1990    1.1168   -1.7401\n",
        "    H   -4.3813    1.4827   -1.1946\n",
        "    H   -3.3379    2.5884   -0.6069\n",
        "    H    3.3357    2.5849    0.6209\n",
        "    H    4.2079    1.8067   -0.5093\n",
        "    H   -3.6831   -2.4417   -0.7833\n",
        "    H    3.6893   -2.4404    0.7792\n",
        "\"\"\"\n",
        "\n",
        "mol = gto.M(\n",
        "    atom=atoms,\n",
        "    basis='sto-3g'\n",
        ")\n",
        "\n",
        "mf = scf.RHF(mol)\n",
        "energy = mf.kernel()\n",
        "\n",
        "print(f\"GSE: {energy} Hartrees\")\n"
      ]
    },
    {
      "cell_type": "code",
      "execution_count": null,
      "metadata": {
        "colab": {
          "base_uri": "https://localhost:8080/"
        },
        "id": "eoq2ehaDHLrC",
        "outputId": "3674b76d-d25c-415f-eec0-6bca25c7d481"
      },
      "outputs": [
        {
          "output_type": "stream",
          "name": "stdout",
          "text": [
            "converged SCF energy = -1062.00937984971\n",
            "GSE: -1062.0093798497053 Hartrees\n"
          ]
        }
      ],
      "source": [
        "#glu-ser-gly\n",
        "\n",
        "from pyscf import gto, scf\n",
        "\n",
        "coordinates = \"\"\"\n",
        "O   2.0407    1.8775    1.4292\n",
        "O  -1.4526    2.3496   -1.3314\n",
        "O  -1.2361   -1.0418   -0.4307\n",
        "O   1.7165   -2.4817    0.0159\n",
        "O   3.7108   -2.6965   -1.0496\n",
        "O  -4.5020    0.3438   -0.8742\n",
        "O  -5.7206   -1.4881   -0.3198\n",
        "N   0.6661    0.8040   -0.1044\n",
        "N   3.6506    2.0721   -0.9862\n",
        "N  -2.7168    0.0218    1.0053\n",
        "C   3.0549    0.8263   -0.5002\n",
        "C   4.1191    0.0163    0.2553\n",
        "C  -0.5948    1.0836    0.5440\n",
        "C   1.8879    1.2279    0.3966\n",
        "C   3.5765   -1.2643    0.8897\n",
        "C  -1.1946    2.4026    0.0672\n",
        "C  -1.5316   -0.0930    0.2928\n",
        "C   3.0373   -2.2210   -0.1444\n",
        "C  -3.7514   -0.9857    0.9703\n",
        "C  -4.7598   -0.7535   -0.1254\n",
        "H   2.7031    0.2533   -1.3650\n",
        "H   4.9377   -0.2370   -0.4312\n",
        "H   4.5570    0.6276    1.0555\n",
        "H  -0.4163    1.1447    1.6248\n",
        "H   0.6405    0.2941   -0.9827\n",
        "H   4.3722   -1.7846    1.4350\n",
        "H   2.7964   -1.0372    1.6247\n",
        "H  -0.4948    3.2270    0.2400\n",
        "H  -2.1299    2.6488    0.5789\n",
        "H   2.9783    2.5659   -1.5725\n",
        "H   4.4466    1.8594   -1.5865\n",
        "H  -2.8707    0.8324    1.5972\n",
        "H  -4.2684   -0.9522    1.9333\n",
        "H  -3.2940   -1.9683    0.8210\n",
        "H  -2.1629    1.7021   -1.4773\n",
        "H   1.3774   -3.0933   -0.6720\n",
        "H  -5.1711    0.4727   -1.5799\n",
        "\"\"\"\n",
        "\n",
        "mol = gto.M(\n",
        "    atom=coordinates,\n",
        "    basis='sto-3g',\n",
        "    charge=0,\n",
        "    spin=0\n",
        ")\n",
        "\n",
        "mf = scf.RHF(mol)\n",
        "energy = mf.kernel()\n",
        "\n",
        "print(f\"GSE: {energy} Hartrees\")\n"
      ]
    },
    {
      "cell_type": "code",
      "execution_count": null,
      "metadata": {
        "id": "OcPipq32t-3R"
      },
      "outputs": [],
      "source": [
        "## prueba optimizacion coordenadas"
      ]
    },
    {
      "cell_type": "code",
      "execution_count": null,
      "metadata": {
        "colab": {
          "base_uri": "https://localhost:8080/"
        },
        "id": "EDKCfEqUuBqn",
        "outputId": "023a37e4-c8e6-4b87-b9dd-c91e12e2126e"
      },
      "outputs": [
        {
          "output_type": "stream",
          "name": "stdout",
          "text": [
            "converged SCF energy = -74.9628595158988\n",
            "Energía total: -74.96285951589883 Hartree\n"
          ]
        }
      ],
      "source": [
        "# agua con ccccbdb\n",
        "from pyscf import gto, scf\n",
        "\n",
        "# Definimos la molécula con las coordenadas dadas\n",
        "mol = gto.M(\n",
        "    atom='''\n",
        "        O  0.0000  0.0000  0.1174\n",
        "        H  0.0000  0.7547 -0.4697\n",
        "        H  0.0000 -0.7547 -0.4697\n",
        "    ''',\n",
        "    unit='Angstrom',  # Especificamos que las coordenadas están en angstroms\n",
        "    basis='sto-3g'    # Usamos la base de datos STO-3G\n",
        ")\n",
        "\n",
        "# Ejecutamos el cálculo de Hartree-Fock\n",
        "mf = scf.RHF(mol)\n",
        "energy = mf.kernel()\n",
        "\n",
        "print(f\"Energía total: {energy} Hartree\")\n"
      ]
    },
    {
      "cell_type": "code",
      "execution_count": null,
      "metadata": {
        "colab": {
          "base_uri": "https://localhost:8080/"
        },
        "id": "DWryk7PdH_Kg",
        "outputId": "08b686e5-b624-417b-b11a-47b575efc062"
      },
      "outputs": [
        {
          "output_type": "stream",
          "name": "stdout",
          "text": [
            "converged SCF energy = -74.9659011917269\n",
            "Energía total: -74.96590119172693 Hartree\n"
          ]
        }
      ],
      "source": [
        "#hf sto3g\n",
        "\n",
        "from pyscf import gto, scf\n",
        "\n",
        "# Definimos la molécula con las nuevas coordenadas\n",
        "mol = gto.M(\n",
        "    atom='''\n",
        "        O  0.0000  0.0000  0.1272\n",
        "        H  0.0000  0.7581 -0.5086\n",
        "        H  0.0000 -0.7581 -0.5086\n",
        "    ''',\n",
        "    unit='Angstrom',  # Coordenadas en angstroms\n",
        "    basis='sto-3g'    # Base de datos STO-3G\n",
        ")\n",
        "\n",
        "# Cálculo de energía mediante Hartree-Fock\n",
        "mf = scf.RHF(mol)\n",
        "energy = mf.kernel()\n",
        "\n",
        "print(f\"Energía total: {energy} Hartree\")\n"
      ]
    },
    {
      "cell_type": "code",
      "execution_count": null,
      "metadata": {
        "colab": {
          "base_uri": "https://localhost:8080/"
        },
        "id": "NqNhxRpSzFDJ",
        "outputId": "16cd67be-9103-45c4-9256-330a9a1906a7"
      },
      "outputs": [
        {
          "output_type": "stream",
          "name": "stdout",
          "text": [
            "converged SCF energy = -74.2658431001177\n",
            "Energía total: -74.26584310011772 Hartree\n"
          ]
        }
      ],
      "source": [
        "from pyscf import gto, scf\n",
        "\n",
        "# Definimos la molécula con las nuevas coordenadas\n",
        "mol = gto.M(\n",
        "    atom='''\n",
        "        O  2.5369 -0.1550  0.0000\n",
        "        H  3.0739  0.1550  0.0000\n",
        "        H  2.0000  0.1550  0.0000\n",
        "    ''',\n",
        "    unit='Angstrom',  # Las coordenadas están en angstroms\n",
        "    basis='sto-3g'    # Base de datos STO-3G\n",
        ")\n",
        "\n",
        "# Cálculo de energía mediante Hartree-Fock\n",
        "mf = scf.RHF(mol)\n",
        "energy = mf.kernel()\n",
        "\n",
        "print(f\"Energía total: {energy} Hartree\")\n"
      ]
    },
    {
      "cell_type": "code",
      "execution_count": null,
      "metadata": {
        "colab": {
          "base_uri": "https://localhost:8080/"
        },
        "id": "I-sZdSRGu2tO",
        "outputId": "d8281048-a9bf-4a03-d179-af3e565b72c8"
      },
      "outputs": [
        {
          "output_type": "stream",
          "name": "stdout",
          "text": [
            "converged SCF energy = -39.7234077413558\n",
            "Energía total: -39.72340774135578 Hartree\n"
          ]
        }
      ],
      "source": [
        "### ch4 cccbdb\n",
        "\n",
        "from pyscf import gto, scf\n",
        "\n",
        "# Definimos la molécula con las nuevas coordenadas\n",
        "mol = gto.M(\n",
        "    atom='''\n",
        "        C  0.0000  0.0000  0.0000\n",
        "        H  0.6442  0.6442  0.6442\n",
        "        H -0.6442 -0.6442  0.6442\n",
        "        H -0.6442  0.6442 -0.6442\n",
        "        H  0.6442 -0.6442 -0.6442\n",
        "    ''',\n",
        "    unit='Angstrom',  # Coordenadas en angstroms\n",
        "    basis='sto-3g'    # Base de datos STO-3G\n",
        ")\n",
        "\n",
        "# Cálculo de Hartree-Fock\n",
        "mf = scf.RHF(mol)\n",
        "energy = mf.kernel()\n",
        "\n",
        "print(f\"Energía total: {energy} Hartree\")\n"
      ]
    },
    {
      "cell_type": "code",
      "execution_count": null,
      "metadata": {
        "colab": {
          "base_uri": "https://localhost:8080/"
        },
        "id": "OI8vKTPxIhhL",
        "outputId": "7bfbc641-f493-44a8-d946-a4224c014f82"
      },
      "outputs": [
        {
          "output_type": "stream",
          "name": "stdout",
          "text": [
            "converged SCF energy = -39.7268636741427\n",
            "Energía total: -39.7268636741427 Hartree\n"
          ]
        }
      ],
      "source": [
        "from pyscf import gto, scf\n",
        "\n",
        "# Definimos la molécula con las nuevas coordenadas\n",
        "mol = gto.M(\n",
        "    atom='''\n",
        "        C  0.0000  0.0000  0.0000\n",
        "        H  0.6253  0.6253  0.6253\n",
        "        H -0.6253 -0.6253  0.6253\n",
        "        H -0.6253  0.6253 -0.6253\n",
        "        H  0.6253 -0.6253 -0.6253\n",
        "    ''',\n",
        "    unit='Angstrom',  # Coordenadas en angstroms\n",
        "    basis='sto-3g'    # Base de datos STO-3G\n",
        ")\n",
        "\n",
        "# Cálculo de energía mediante Hartree-Fock\n",
        "mf = scf.RHF(mol)\n",
        "energy = mf.kernel()\n",
        "\n",
        "print(f\"Energía total: {energy} Hartree\")\n"
      ]
    },
    {
      "cell_type": "code",
      "execution_count": null,
      "metadata": {
        "colab": {
          "base_uri": "https://localhost:8080/"
        },
        "id": "lYUjCC6_zWky",
        "outputId": "d7a95553-913a-4388-9716-68ca1eca7d0a"
      },
      "outputs": [
        {
          "output_type": "stream",
          "name": "stdout",
          "text": [
            "converged SCF energy = -37.572819212192\n",
            "Energía total: -37.572819212192 Hartree\n"
          ]
        }
      ],
      "source": [
        "from pyscf import gto, scf\n",
        "\n",
        "# Definimos la molécula con las nuevas coordenadas\n",
        "mol = gto.M(\n",
        "    atom='''\n",
        "        C  2.5369  0.0000  0.0000\n",
        "        H  3.0739  0.3100  0.0000\n",
        "        H  2.0000 -0.3100  0.0000\n",
        "        H  2.2269  0.5369  0.0000\n",
        "        H  2.8469 -0.5369  0.0000\n",
        "    ''',\n",
        "    unit='Angstrom',  # Coordenadas en angstroms\n",
        "    basis='sto-3g'    # Base de datos STO-3G\n",
        ")\n",
        "\n",
        "# Cálculo de energía mediante Hartree-Fock\n",
        "mf = scf.RHF(mol)\n",
        "energy = mf.kernel()\n",
        "\n",
        "print(f\"Energía total: {energy} Hartree\")\n"
      ]
    },
    {
      "cell_type": "code",
      "execution_count": null,
      "metadata": {
        "id": "PsQxfIAKwTI3"
      },
      "outputs": [],
      "source": [
        "#nh3 amb cccbdb"
      ]
    },
    {
      "cell_type": "code",
      "execution_count": null,
      "metadata": {
        "colab": {
          "base_uri": "https://localhost:8080/"
        },
        "id": "d2u6UismwUlb",
        "outputId": "956f7f44-08a6-4c69-ae86-c57c32f04176"
      },
      "outputs": [
        {
          "output_type": "stream",
          "name": "stdout",
          "text": [
            "converged SCF energy = -55.4492893734574\n",
            "Energía total: -55.44928937345742 Hartree\n"
          ]
        }
      ],
      "source": [
        "from pyscf import gto, scf\n",
        "\n",
        "# Definimos la molécula con las coordenadas actualizadas\n",
        "mol = gto.M(\n",
        "    atom='''\n",
        "        N  0.0000  0.0000  0.0831\n",
        "        H  0.0000  0.9873 -0.1939\n",
        "        H  0.8550 -0.4936 -0.1939\n",
        "        H -0.8550 -0.4936 -0.1939\n",
        "    ''',\n",
        "    unit='Angstrom',  # Coordenadas en angstroms\n",
        "    basis='sto-3g'    # Base de datos STO-3G\n",
        ")\n",
        "\n",
        "# Cálculo de energía mediante Hartree-Fock\n",
        "mf = scf.RHF(mol)\n",
        "energy = mf.kernel()\n",
        "\n",
        "print(f\"Energía total: {energy} Hartree\")\n"
      ]
    },
    {
      "cell_type": "code",
      "execution_count": null,
      "metadata": {
        "colab": {
          "base_uri": "https://localhost:8080/"
        },
        "id": "DGbPsDazwVox",
        "outputId": "e1157039-5654-4c8e-a0a7-abbad5e5c4e1"
      },
      "outputs": [
        {
          "output_type": "stream",
          "name": "stdout",
          "text": [
            "converged SCF energy = -54.2461226694725\n",
            "Energía total: -54.246122669472456 Hartree\n"
          ]
        }
      ],
      "source": [
        "from pyscf import gto, scf\n",
        "\n",
        "# Definimos la molécula con las nuevas coordenadas\n",
        "mol = gto.M(\n",
        "    atom='''\n",
        "        N  2.5369  0.1550  0.0000\n",
        "        H  3.0739  0.4650  0.0000\n",
        "        H  2.0000  0.4650  0.0000\n",
        "        H  2.5369 -0.4650  0.0000\n",
        "    ''',\n",
        "    unit='Angstrom',  # Coordenadas en angstroms\n",
        "    basis='sto-3g'    # Base de datos STO-3G\n",
        ")\n",
        "\n",
        "# Cálculo de energía mediante Hartree-Fock\n",
        "mf = scf.RHF(mol)\n",
        "energy = mf.kernel()\n",
        "\n",
        "print(f\"Energía total: {energy} Hartree\")\n"
      ]
    },
    {
      "cell_type": "markdown",
      "metadata": {
        "id": "IzYEpHOLcN44"
      },
      "source": [
        "## more small peptides"
      ]
    },
    {
      "cell_type": "code",
      "execution_count": null,
      "metadata": {
        "id": "MDdXWI3ccRXM",
        "colab": {
          "base_uri": "https://localhost:8080/"
        },
        "outputId": "c14bfc36-2aae-41b4-dee0-0d561cd7a5e5"
      },
      "outputs": [
        {
          "output_type": "stream",
          "name": "stdout",
          "text": [
            "converged SCF energy = -788.538345354198\n",
            "Energía total: -788.5383453541981 Hartree\n"
          ]
        }
      ],
      "source": [
        "from pyscf import gto, scf\n",
        "\n",
        "# leu-thr\n",
        "mol = gto.M(\n",
        "    atom='''\n",
        "        O   3.2840   -1.0276   -1.5062\n",
        "        O  -0.3006    0.7045    1.7152\n",
        "        O   3.2362    2.1480    0.6383\n",
        "        O   2.0587    1.8247   -1.2744\n",
        "        N   0.8265   -0.3287   -0.0319\n",
        "        N  -1.7495   -1.8508    0.5874\n",
        "        C  -2.8147    0.3611    0.4154\n",
        "        C  -4.1353   -0.1081   -0.2325\n",
        "        C  -1.5892   -0.4946    0.0564\n",
        "        C   2.1651    0.0324    0.3750\n",
        "        C  -0.3052    0.0415    0.6796\n",
        "        C   3.2223   -0.9780   -0.0816\n",
        "        C  -3.9839   -0.1262   -1.7563\n",
        "        C  -5.3240    0.7722    0.1563\n",
        "        C   2.9622   -2.3833    0.4482\n",
        "        C   2.4474    1.4129   -0.1889\n",
        "        H  -2.9470    0.3829    1.5061\n",
        "        H  -2.6166    1.4011    0.1221\n",
        "        H  -4.3688   -1.1248    0.1043\n",
        "        H  -1.4506   -0.5325   -1.0286\n",
        "        H   2.1685    0.1045    1.4697\n",
        "        H   4.2089   -0.6460    0.2613\n",
        "        H   0.7106   -0.8302   -0.9073\n",
        "        H  -4.9484   -0.3269   -2.2366\n",
        "        H  -3.3026   -0.9150   -2.0880\n",
        "        H  -3.6170    0.8338   -2.1349\n",
        "        H  -5.4562    0.7822    1.2433\n",
        "        H  -5.1770    1.8054   -0.1761\n",
        "        H  -6.2513    0.3991   -0.2908\n",
        "        H  -0.9402   -2.4149    0.3286\n",
        "        H  -2.5496   -2.3027    0.1476\n",
        "        H   2.0307   -2.7999    0.0501\n",
        "        H   2.9138   -2.3922    1.5413\n",
        "        H   3.7630   -3.0598    0.1301\n",
        "        H   2.4444   -1.3916   -1.8331\n",
        "        H   3.4350    3.0323    0.2631\n",
        "    ''',\n",
        "    unit='Angstrom',  # Coordenadas en angstroms\n",
        "    basis='sto-3g'    # Base de datos STO-3G\n",
        ")\n",
        "\n",
        "# Cálculo de energía mediante Hartree-Fock\n",
        "mf = scf.RHF(mol)\n",
        "energy = mf.kernel()\n",
        "\n",
        "print(f\"Energía total: {energy} Hartree\")\n"
      ]
    },
    {
      "cell_type": "code",
      "source": [
        "from pyscf import gto, scf\n",
        "\n",
        "# thr-lys\n",
        "atoms = '''\n",
        "O   2.7621   -0.4106    1.9741\n",
        "O   1.8016   -0.0897   -1.7954\n",
        "O   0.0879    3.3453   -0.8780\n",
        "O   0.8868    2.4774    1.0606\n",
        "N   0.3833   -0.0303    0.0367\n",
        "N   2.6588   -2.5940   -1.0216\n",
        "N  -6.2320   -1.4423    0.4920\n",
        "C  -1.8499    1.0175    0.1520\n",
        "C  -0.4331    1.0636   -0.4227\n",
        "C  -2.6669   -0.2144   -0.2578\n",
        "C  -4.0978   -0.2013    0.2907\n",
        "C   2.1650   -1.6793    0.0075\n",
        "C   3.3092   -1.1971    0.9161\n",
        "C   1.4523   -0.5261   -0.6999\n",
        "C  -4.8881   -1.4606   -0.0728\n",
        "C   0.2671    2.3358    0.0143\n",
        "C   4.3937   -0.3938    0.2042\n",
        "H  -2.3905    1.9198   -0.1625\n",
        "H  -1.8035    1.0601    1.2486\n",
        "H  -0.4617    1.0376   -1.5185\n",
        "H  -2.7026   -0.2747   -1.3524\n",
        "H  -2.1593   -1.1206    0.0939\n",
        "H  -4.0582   -0.1003    1.3829\n",
        "H  -4.6224    0.6838   -0.0908\n",
        "H   1.4258   -2.2165    0.6146\n",
        "H   0.2102   -0.3996    0.9673\n",
        "H   3.7787   -2.0666    1.3914\n",
        "H  -4.9621   -1.5479   -1.1623\n",
        "H  -4.3599   -2.3484    0.2924\n",
        "H   5.1549   -0.0776    0.9266\n",
        "H   4.8921   -0.9727   -0.5780\n",
        "H   3.9931    0.5261   -0.2338\n",
        "H   3.3232   -2.1183   -1.6301\n",
        "H   3.1739   -3.3565   -0.5831\n",
        "H   2.4190    0.4144    1.5908\n",
        "H  -6.7013   -2.3211    0.2772\n",
        "H  -6.1760   -1.3884    1.5082\n",
        "H   0.5220    4.1743   -0.5835\n",
        "'''\n",
        "\n",
        "# Crear el objeto de molécula\n",
        "mol = gto.Mole()\n",
        "mol.atom = atoms\n",
        "mol.basis = 'sto-3g'  # Puedes cambiar esto por la base que prefieras\n",
        "mol.build()\n",
        "\n",
        "# Realizar el cálculo de Hartree-Fock\n",
        "mf = scf.RHF(mol)\n",
        "energy = mf.kernel()\n",
        "\n",
        "print(f'La energía total de Hartree-Fock es: {energy}')\n"
      ],
      "metadata": {
        "colab": {
          "base_uri": "https://localhost:8080/"
        },
        "id": "cMIAUEfQ_Kum",
        "outputId": "7c65170e-00c7-4d3c-8065-4407934e17f8"
      },
      "execution_count": null,
      "outputs": [
        {
          "output_type": "stream",
          "name": "stdout",
          "text": [
            "converged SCF energy = -842.855209206185\n",
            "La energía total de Hartree-Fock es: -842.8552092061848\n"
          ]
        }
      ]
    },
    {
      "cell_type": "code",
      "source": [
        "from pyscf import gto, scf\n",
        "\n",
        "# trp-his\n",
        "atoms = '''\n",
        "O   -0.8812   -0.9656   -1.5931\n",
        "O    0.5680    2.0185    1.0333\n",
        "O   -0.8999    3.4923    0.1484\n",
        "N   -0.9031   -0.0851    0.5517\n",
        "N    4.2035   -0.9585    1.3352\n",
        "N   -0.8108   -3.4188   -0.0035\n",
        "N   -3.9090   -0.7927    0.2743\n",
        "N   -5.8925   -0.1820   -0.5159\n",
        "C    1.4388   -2.5157   -0.4713\n",
        "C    0.0795   -2.2752    0.2047\n",
        "C    2.5372   -1.6551    0.0886\n",
        "C   -1.5417    1.1603    0.1994\n",
        "C    2.8964   -0.3762   -0.3763\n",
        "C   -0.6225   -1.0601   -0.3942\n",
        "C   -2.8557    1.3548    0.9684\n",
        "C    3.9559    0.0476    0.4287\n",
        "C    3.3396   -2.0009    1.1316\n",
        "C   -3.9913    0.5448    0.3871\n",
        "C    2.4378    0.4778   -1.3989\n",
        "C    4.5824    1.2877    0.2615\n",
        "C   -0.6124    2.3389    0.4511\n",
        "C    3.0549    1.7213   -1.5779\n",
        "C    4.1105    2.1180   -0.7592\n",
        "C   -5.1939    0.9205   -0.0918\n",
        "C   -5.0906   -1.1969   -0.2819\n",
        "H    1.7399   -3.5636   -0.3301\n",
        "H    1.3724   -2.3703   -1.5574\n",
        "H    0.2157   -2.1491    1.2851\n",
        "H   -1.7325    1.1685   -0.8812\n",
        "H   -2.7291    1.0862    2.0254\n",
        "H   -3.1533    2.4114    0.9525\n",
        "H   -0.6157   -0.2177    1.5167\n",
        "H    3.3857   -2.8837    1.7538\n",
        "H    4.9196   -0.9307    2.0478\n",
        "H    1.6214    0.1854   -2.0519\n",
        "H   -0.3809   -4.2607    0.3781\n",
        "H   -1.6736   -3.2799    0.5216\n",
        "H    5.4041    1.5975    0.8985\n",
        "H    2.7056    2.3839   -2.3653\n",
        "H    4.5750    3.0883   -0.9157\n",
        "H   -3.1443   -1.3922    0.5551\n",
        "H   -5.6154    1.9124   -0.1643\n",
        "H   -5.3027   -2.2366   -0.4867\n",
        "H    1.1371    2.8059    1.1687\n",
        "'''\n",
        "\n",
        "# Crear el objeto de molécula\n",
        "mol = gto.Mole()\n",
        "mol.atom = atoms\n",
        "mol.basis = 'sto-3g'  # Puedes cambiar esto por la base que prefieras\n",
        "mol.build()\n",
        "\n",
        "# Realizar el cálculo de Hartree-Fock\n",
        "mf = scf.RHF(mol)\n",
        "energy = mf.kernel()\n",
        "\n",
        "print(f'La energía total de Hartree-Fock es: {energy}')\n"
      ],
      "metadata": {
        "colab": {
          "base_uri": "https://localhost:8080/"
        },
        "id": "sDer5BV1_rqF",
        "outputId": "f7ad1a8b-7a7e-4286-bba9-61acee73836f"
      },
      "execution_count": null,
      "outputs": [
        {
          "output_type": "stream",
          "name": "stdout",
          "text": [
            "converged SCF energy = -1137.12083523508\n",
            "La energía total de Hartree-Fock es: -1137.1208352350818\n"
          ]
        }
      ]
    },
    {
      "cell_type": "code",
      "source": [
        "from pyscf import gto, scf\n",
        "\n",
        "# phe-ile\n",
        "atoms = '''\n",
        "O   -0.4186   -2.0495   -0.2435\n",
        "O   -0.0572    1.6500    1.7555\n",
        "O   -2.0462   -2.6445    1.2092\n",
        "N   -0.9071    0.5227   -0.0846\n",
        "N    0.4975    3.5954   -0.3498\n",
        "C   -3.3081   -0.0648    0.2229\n",
        "C   -1.8377   -0.2978    0.6480\n",
        "C   -3.5415   -0.6119   -1.2022\n",
        "C   -3.7285    1.4065    0.3434\n",
        "C    0.8359    2.1742   -0.4350\n",
        "C   -0.0799    1.4446    0.5429\n",
        "C    2.3102    1.9646   -0.0595\n",
        "C   -4.9837   -0.4873   -1.6745\n",
        "C   -1.4623   -1.7725    0.5746\n",
        "C    2.7344    0.5167   -0.1371\n",
        "C    2.6080   -0.2881    0.9835\n",
        "C    3.2412    0.0212   -1.3275\n",
        "C    2.9994   -1.6250    0.9120\n",
        "C    3.6325   -1.3158   -1.3990\n",
        "C    3.5116   -2.1388   -0.2792\n",
        "H   -3.9457   -0.6438    0.9054\n",
        "H   -1.7501   -0.0387    1.7109\n",
        "H   -2.8978   -0.0924   -1.9218\n",
        "H   -3.2744   -1.6736   -1.2478\n",
        "H   -4.8123    1.5187    0.2399\n",
        "H   -3.2478    2.0266   -0.4204\n",
        "H   -3.4555    1.8045    1.3266\n",
        "H   -0.8218    0.3718   -1.0851\n",
        "H    0.6557    1.8323   -1.4602\n",
        "H    2.9538    2.5615   -0.7203\n",
        "H    2.5112    2.3373    0.9549\n",
        "H   -5.6734   -0.9453   -0.9586\n",
        "H   -5.1076   -0.9961   -2.6362\n",
        "H   -5.2721    0.5580   -1.8186\n",
        "H    0.7219    3.9498    0.5798\n",
        "H    1.0847    4.1226   -0.9955\n",
        "H    2.2205    0.1004    1.9204\n",
        "H    3.3366    0.6537   -2.2052\n",
        "H   -0.2053   -3.0068   -0.2560\n",
        "H    2.9064   -2.2655    1.7842\n",
        "H    4.0304   -1.7164   -2.3268\n",
        "H    3.8160   -3.1798   -0.3350\n",
        "'''\n",
        "\n",
        "# Crear el objeto de molécula\n",
        "mol = gto.Mole()\n",
        "mol.atom = atoms\n",
        "mol.basis = 'sto-3g'  # Puedes cambiar esto por la base que prefieras\n",
        "mol.build()\n",
        "\n",
        "# Realizar el cálculo de Hartree-Fock\n",
        "mf = scf.RHF(mol)\n",
        "energy = mf.kernel()\n",
        "\n",
        "print(f'La energía total de Hartree-Fock es: {energy}')\n"
      ],
      "metadata": {
        "colab": {
          "base_uri": "https://localhost:8080/"
        },
        "id": "kLsx9H9j_c--",
        "outputId": "49e3018a-e09a-4962-b61c-9d0a8dac6459"
      },
      "execution_count": null,
      "outputs": [
        {
          "output_type": "stream",
          "name": "stdout",
          "text": [
            "converged SCF energy = -902.885173404094\n",
            "La energía total de Hartree-Fock es: -902.8851734040938\n"
          ]
        }
      ]
    },
    {
      "cell_type": "code",
      "source": [
        "from pyscf import gto, scf\n",
        "#arg-met\n",
        "atoms = '''\n",
        "S    5.6759    1.9712   -0.1186\n",
        "O    0.3158    0.1736   -1.5551\n",
        "O    2.8337   -2.4479    1.4186\n",
        "O    4.2608   -2.7998   -0.2997\n",
        "N    1.6055   -0.4138    0.2804\n",
        "N   -0.1369    2.0144    0.9516\n",
        "N   -4.8830    0.0714    0.3726\n",
        "N   -6.7323   -0.5307   -1.0372\n",
        "N   -7.0047    0.9556    0.6691\n",
        "C   -0.5444    0.6384    0.6614\n",
        "C   -1.9757    0.6169    0.1053\n",
        "C    2.7158   -0.9439   -0.4743\n",
        "C   -2.5977   -0.7850    0.1734\n",
        "C    3.7366    0.1484   -0.8225\n",
        "C    0.4791    0.1095   -0.3379\n",
        "C   -4.0130   -0.8221   -0.3942\n",
        "C    4.5014    0.6818    0.3911\n",
        "C    3.3646   -2.1370    0.2116\n",
        "C    4.5215    3.3596   -0.1960\n",
        "C   -6.1232    0.1393    0.0003\n",
        "H   -0.4985    0.0551    1.5885\n",
        "H   -2.0046    0.9869   -0.9271\n",
        "H   -2.5986    1.2986    0.6989\n",
        "H    2.3029   -1.3383   -1.4120\n",
        "H   -1.9743   -1.4936   -0.3845\n",
        "H   -2.6160   -1.1224    1.2172\n",
        "H    4.4557   -0.2677   -1.5409\n",
        "H    3.2141    0.9655   -1.3345\n",
        "H    1.6715   -0.4043    1.2941\n",
        "H   -3.9846   -0.5205   -1.4484\n",
        "H   -4.3820   -1.8532   -0.3367\n",
        "H    3.8258    1.0759    1.1569\n",
        "H    5.0857   -0.1205    0.8525\n",
        "H   -0.7805    2.4271    1.6258\n",
        "H    0.7785    2.0123    1.4011\n",
        "H    3.2623   -3.2358    1.8157\n",
        "H    5.0757    4.2691   -0.4444\n",
        "H    4.0340    3.5090    0.7710\n",
        "H    3.7666    3.1995   -0.9691\n",
        "H   -7.7178   -0.3984   -1.2374\n",
        "H   -6.2280   -1.1756   -1.6350\n",
        "H   -7.9783    1.0236    0.3934\n",
        "H   -6.7035    1.5155    1.4593\n",
        "'''\n",
        "\n",
        "\n",
        "# Crear el objeto de molécula\n",
        "mol = gto.Mole()\n",
        "mol.atom = atoms\n",
        "mol.basis = 'sto-3g'  # Puedes cambiar esto por la base que prefieras\n",
        "mol.build()\n",
        "\n",
        "# Realizar el cálculo de Hartree-Fock\n",
        "mf = scf.RHF(mol)\n",
        "energy = mf.kernel()\n",
        "\n",
        "print(f'La energía total de Hartree-Fock es: {energy}')\n"
      ],
      "metadata": {
        "colab": {
          "base_uri": "https://localhost:8080/"
        },
        "id": "Ypky6dAtAL_o",
        "outputId": "c09cd5f0-e849-4125-d16f-a87fa9f3ea10"
      },
      "execution_count": null,
      "outputs": [
        {
          "output_type": "stream",
          "name": "stdout",
          "text": [
            "converged SCF energy = -1308.21468305438\n",
            "La energía total de Hartree-Fock es: -1308.2146830543827\n"
          ]
        }
      ]
    },
    {
      "cell_type": "code",
      "source": [
        "#ser-cys\n",
        "atoms = '''\n",
        "S   -2.5863    2.1687   -0.6708\n",
        "O    3.5498   -1.6701   -0.0420\n",
        "O    1.2290    0.2282    1.6474\n",
        "O   -1.9556   -1.4848   -1.3215\n",
        "O   -3.4602   -1.3353    0.3682\n",
        "N   -0.1601    0.0209   -0.1980\n",
        "N    2.3405    1.6783   -0.9142\n",
        "C   -1.3964   -0.0747    0.5416\n",
        "C    2.2227    0.2640   -0.5642\n",
        "C    1.0693    0.1669    0.4300\n",
        "C   -2.0027    1.3021    0.8239\n",
        "C    3.5355   -0.2482    0.0249\n",
        "C   -2.3854   -1.0160   -0.1255\n",
        "H   -1.1537   -0.5442    1.5039\n",
        "H    1.9750   -0.3161   -1.4615\n",
        "H   -0.2054    0.0098   -1.2128\n",
        "H   -1.2728    1.9487    1.3225\n",
        "H   -2.8643    1.2002    1.4926\n",
        "H    3.6821    0.0581    1.0659\n",
        "H    4.3902    0.1062   -0.5622\n",
        "H    1.4913    1.9855   -1.3875\n",
        "H    3.0978    1.8035   -1.5850\n",
        "H   -3.0338    3.2665   -0.0440\n",
        "H    4.3993   -1.9645    0.3286\n",
        "H   -2.6053   -2.0950   -1.7312\n",
        "'''\n",
        "mol = gto.Mole()\n",
        "mol.atom = atoms\n",
        "mol.basis = 'sto-3g'  # Puedes cambiar esto por la base que prefieras\n",
        "mol.build()\n",
        "\n",
        "# Realizar el cálculo de Hartree-Fock\n",
        "mf = scf.RHF(mol)\n",
        "energy = mf.kernel()\n",
        "\n",
        "print(f'La energía total de Hartree-Fock es: {energy}')"
      ],
      "metadata": {
        "colab": {
          "base_uri": "https://localhost:8080/"
        },
        "id": "l3oNbgH9ApFm",
        "outputId": "655a0774-23c2-432f-851d-e8cfa0c5e1a0"
      },
      "execution_count": null,
      "outputs": [
        {
          "output_type": "stream",
          "name": "stdout",
          "text": [
            "converged SCF energy = -1027.39113871216\n",
            "La energía total de Hartree-Fock es: -1027.3911387121584\n"
          ]
        }
      ]
    },
    {
      "cell_type": "code",
      "source": [
        "#tyr-asp\n",
        "atoms = '''\n",
        "O   -0.9523    1.2444    1.6587\n",
        "O    0.1533   -2.1349   -0.5970\n",
        "O   -1.2760   -3.4205    0.6028\n",
        "O   -4.9851   -0.0298   -1.2960\n",
        "O    4.6971   -2.0060   -0.2123\n",
        "O   -4.1238    0.6784    0.6814\n",
        "N   -1.1814    0.0625   -0.3234\n",
        "N   -0.9095    3.4379   -0.2677\n",
        "C   -0.0939    2.2284   -0.3823\n",
        "C    1.3196    2.4983    0.1540\n",
        "C   -1.8362   -1.0870    0.2539\n",
        "C   -0.7884    1.1497    0.4433\n",
        "C    2.2238    1.2921    0.0557\n",
        "C   -3.2098   -1.3159   -0.3830\n",
        "C    2.2792    0.3986    1.1126\n",
        "C    2.9801    1.1034   -1.0894\n",
        "C   -0.9806   -2.3355    0.1165\n",
        "C    3.1144   -0.7149    1.0220\n",
        "C    3.8152   -0.0102   -1.1802\n",
        "C   -4.1280   -0.1196   -0.2453\n",
        "C    3.8823   -0.9195   -0.1245\n",
        "H   -0.0409    1.9367   -1.4376\n",
        "H    1.2810    2.8282    1.2018\n",
        "H    1.7763    3.3328   -0.3958\n",
        "H   -1.9553   -0.9182    1.3307\n",
        "H   -0.9681    0.0399   -1.3162\n",
        "H   -3.7125   -2.1787    0.0683\n",
        "H   -3.0788   -1.5306   -1.4515\n",
        "H   -1.8177    3.2793   -0.7031\n",
        "H   -0.4727    4.1954   -0.7916\n",
        "H    1.6953    0.5500    2.0153\n",
        "H    2.9323    1.8049   -1.9173\n",
        "H    3.1635   -1.4188    1.8483\n",
        "H    4.4077   -0.1584   -2.0790\n",
        "H    0.6922   -2.9515   -0.6682\n",
        "H   -5.5841    0.7427   -1.2138\n",
        "H    5.1526   -1.9895   -1.0715\n",
        "\n",
        "'''\n",
        "mol = gto.Mole()\n",
        "mol.atom = atoms\n",
        "mol.basis = 'sto-3g'  # Puedes cambiar esto por la base que prefieras\n",
        "mol.build()\n",
        "\n",
        "# Realizar el cálculo de Hartree-Fock\n",
        "mf = scf.RHF(mol)\n",
        "energy = mf.kernel()\n",
        "\n",
        "print(f'La energía total de Hartree-Fock es: {energy}')"
      ],
      "metadata": {
        "colab": {
          "base_uri": "https://localhost:8080/"
        },
        "id": "QAlUT3eDA5XE",
        "outputId": "f9946cb7-f8ba-4877-b16b-fdee32ca4ba9"
      },
      "execution_count": null,
      "outputs": [
        {
          "output_type": "stream",
          "name": "stdout",
          "text": [
            "converged SCF energy = -1046.06184515557\n",
            "La energía total de Hartree-Fock es: -1046.061845155566\n"
          ]
        }
      ]
    },
    {
      "cell_type": "code",
      "source": [
        "#glu-gly\n",
        "atoms = '''\n",
        "O   -0.5119    1.9097    1.0960\n",
        "O    0.9748   -2.6954   -0.0656\n",
        "O    2.7225   -1.5681   -0.9790\n",
        "O   -1.8613   -1.3346    0.3966\n",
        "O   -4.0474   -0.7642    0.1874\n",
        "N    1.7803    2.6903   -0.5167\n",
        "N   -0.9448    0.7566   -0.8731\n",
        "C    1.3498    1.3040   -0.3264\n",
        "C    2.2183    0.6472    0.7570\n",
        "C    1.7894   -0.7785    1.1036\n",
        "C   -0.1231    1.3604    0.0671\n",
        "C   -2.3837    0.7021   -0.7490\n",
        "C    1.9007   -1.7050   -0.0817\n",
        "C   -2.8635   -0.5243   -0.0163\n",
        "H    1.4734    0.7806   -1.2795\n",
        "H    3.2676    0.6469    0.4338\n",
        "H    2.1766    1.2397    1.6809\n",
        "H    2.4307   -1.1785    1.8967\n",
        "H    0.7594   -0.7851    1.4748\n",
        "H    2.7610    2.7062   -0.7957\n",
        "H    1.7367    3.1923    0.3699\n",
        "H   -0.5317    0.3096   -1.6860\n",
        "H   -2.7959    0.6883   -1.7616\n",
        "H   -2.7319    1.5883   -0.2101\n",
        "H    1.0513   -3.2811   -0.8489\n",
        "H   -2.1984   -2.1242    0.8712\n",
        "'''\n",
        "mol = gto.Mole()\n",
        "mol.atom = atoms\n",
        "mol.basis = 'sto-3g'  # Puedes cambiar esto por la base que prefieras\n",
        "mol.build()\n",
        "\n",
        "# Realizar el cálculo de Hartree-Fock\n",
        "mf = scf.RHF(mol)\n",
        "energy = mf.kernel()\n",
        "\n",
        "print(f'La energía total de Hartree-Fock es: {energy}')"
      ],
      "metadata": {
        "colab": {
          "base_uri": "https://localhost:8080/"
        },
        "id": "t6izcWXTBLVU",
        "outputId": "3c0e8e64-f601-46b6-d257-39cc0ec11e90"
      },
      "execution_count": null,
      "outputs": [
        {
          "output_type": "stream",
          "name": "stdout",
          "text": [
            "converged SCF energy = -745.476640886841\n",
            "La energía total de Hartree-Fock es: -745.4766408868405\n"
          ]
        }
      ]
    },
    {
      "cell_type": "code",
      "source": [
        "from pyscf import gto, scf\n",
        "\n",
        "# gly-val-ala\n",
        "mol = gto.Mole()\n",
        "mol.atom = '''\n",
        "O   -0.1077   -1.0953   -1.3663\n",
        "O    3.0557   -0.7161    1.4988\n",
        "O   -3.7900    1.0741    0.6520\n",
        "O   -5.1078   -0.5329   -0.2401\n",
        "N    2.0239    0.1698   -0.3846\n",
        "N   -1.5434   -0.2154    0.2321\n",
        "N    5.0116   -1.8064   -0.0993\n",
        "C    0.4402    2.0183    0.1425\n",
        "C    0.7650    0.5118    0.2275\n",
        "C   -0.3219   -0.3504   -0.4122\n",
        "C    1.5015    2.9008    0.8080\n",
        "C    0.2373    2.4563   -1.3114\n",
        "C   -2.7283   -0.9488   -0.1511\n",
        "C    3.0754   -0.4210    0.3059\n",
        "C   -2.8056   -2.2698    0.5995\n",
        "C    4.2856   -0.6392   -0.5789\n",
        "C   -3.9915   -0.1360    0.0774\n",
        "H   -0.5031    2.2086    0.6697\n",
        "H    0.8060    0.2303    1.2877\n",
        "H    2.4646    2.8342    0.2912\n",
        "H    1.1905    3.9509    0.8024\n",
        "H    1.6523    2.6019    1.8505\n",
        "H    1.1465    2.3275   -1.9076\n",
        "H   -0.5724    1.9020   -1.7957\n",
        "H   -0.0325    3.5178   -1.3534\n",
        "H    2.1259    0.3384   -1.3811\n",
        "H   -1.6088    0.3839    1.0495\n",
        "H   -2.6670   -1.1409   -1.2288\n",
        "H   -2.8766   -2.1054    1.6809\n",
        "H   -3.6848   -2.8470    0.2941\n",
        "H   -1.9164   -2.8817    0.4137\n",
        "H    4.9164    0.2541   -0.5375\n",
        "H    3.9788   -0.8062   -1.6160\n",
        "H    5.3633   -1.6283    0.8410\n",
        "H    5.8340   -1.9544   -0.6831\n",
        "H   -4.6298    1.5658    0.7760\n",
        "'''\n",
        "\n",
        "# Definir la base y la carga nuclear\n",
        "mol.basis = 'sto-3g'  # Utiliza una base simple como ejemplo\n",
        "mol.charge = 0\n",
        "mol.spin = 0  # Sin espín\n",
        "\n",
        "# Definir el tipo de cálculo (Hartree-Fock)\n",
        "mol.build()\n",
        "mf = scf.RHF(mol)\n",
        "\n",
        "# Ejecutar el cálculo de energía\n",
        "energy = mf.kernel()\n",
        "\n",
        "print(\"La energía total de la molécula es: \", energy)\n"
      ],
      "metadata": {
        "colab": {
          "base_uri": "https://localhost:8080/"
        },
        "id": "l-_Qa1BUCSkQ",
        "outputId": "d2d356e1-c65d-4dfb-d45d-75b4d01b323a"
      },
      "execution_count": null,
      "outputs": [
        {
          "output_type": "stream",
          "name": "stdout",
          "text": [
            "converged SCF energy = -841.688356983361\n",
            "La energía total de la molécula es:  -841.6883569833615\n"
          ]
        }
      ]
    },
    {
      "cell_type": "code",
      "source": [
        "from pyscf import gto, scf\n",
        "\n",
        "# Crear la molécula con las coordenadas atómicas proporcionadas\n",
        "mol = gto.Mole()\n",
        "mol.build(\n",
        "    atom = '''\n",
        "    O -0.5119  1.9097  1.0960\n",
        "    O  0.9748 -2.6954 -0.0656\n",
        "    O  2.7225 -1.5681 -0.9790\n",
        "    O -1.8613 -1.3346  0.3966\n",
        "    O -4.0474 -0.7642  0.1874\n",
        "    N  1.7803  2.6903 -0.5167\n",
        "    N -0.9448  0.7566 -0.8731\n",
        "    C  1.3498  1.3040 -0.3264\n",
        "    C  2.2183  0.6472  0.7570\n",
        "    C  1.7894 -0.7785  1.1036\n",
        "    C -0.1231  1.3604  0.0671\n",
        "    C -2.3837  0.7021 -0.7490\n",
        "    C  1.9007 -1.7050 -0.0817\n",
        "    C -2.8635 -0.5243 -0.0163\n",
        "    H  1.4734  0.7806 -1.2795\n",
        "    H  3.2676  0.6469  0.4338\n",
        "    H  2.1766  1.2397  1.6809\n",
        "    H  2.4307 -1.1785  1.8967\n",
        "    H  0.7594 -0.7851  1.4748\n",
        "    H  2.7610  2.7062 -0.7957\n",
        "    H  1.7367  3.1923  0.3699\n",
        "    H -0.5317  0.3096 -1.6860\n",
        "    H -2.7959  0.6883 -1.7616\n",
        "    H -2.7319  1.5883 -0.2101\n",
        "    H  1.0513 -3.2811 -0.8489\n",
        "    H -2.1984 -2.1242  0.8712\n",
        "    ''',  # Coordenadas atómicas\n",
        "    basis = 'sto3g',  # Base mínima\n",
        "    symmetry = True\n",
        ")\n",
        "\n",
        "# Realizar el cálculo de Hartree-Fock\n",
        "mf = scf.RHF(mol)  # RHF es el método de Hartree-Fock para moléculas no abiertas\n",
        "energy = mf.kernel()  # Ejecuta el cálculo\n",
        "\n",
        "# Imprimir la energía total\n",
        "print(f'Energía total de la molécula: {energy} hartrees')\n"
      ],
      "metadata": {
        "colab": {
          "base_uri": "https://localhost:8080/"
        },
        "id": "4OPE_524C2iL",
        "outputId": "2ee6690f-8a30-4f9b-e7d3-c926c804b303"
      },
      "execution_count": null,
      "outputs": [
        {
          "output_type": "stream",
          "name": "stdout",
          "text": [
            "converged SCF energy = -745.476640886838\n",
            "Energía total de la molécula: -745.4766408868378 hartrees\n"
          ]
        }
      ]
    },
    {
      "cell_type": "code",
      "source": [
        "from pyscf import gto, scf\n",
        "\n",
        "# val-ala-ser\n",
        "mol = gto.Mole()\n",
        "mol.build(\n",
        "    atom = '''\n",
        "    O  2.6617  -1.0062  -1.5480\n",
        "    O -0.7574  -0.1708   1.8963\n",
        "    O -2.9973   2.1513  -1.1695\n",
        "    O -5.4638  -0.2815   0.5415\n",
        "    O -4.3859  -0.5810  -1.4332\n",
        "    N  1.4976  -0.7915   0.4460\n",
        "    N  5.0151  -0.9217  -0.1462\n",
        "    N -1.9955  -0.2650  -0.0642\n",
        "    C  4.0420   1.3117   0.3518\n",
        "    C  3.8555  -0.2229   0.4133\n",
        "    C  0.2161  -1.2366  -0.0505\n",
        "    C  2.6280  -0.7122  -0.3541\n",
        "    C  4.2948   1.7977  -1.0787\n",
        "    C  2.8859   2.1052   0.9710\n",
        "    C -0.8695  -0.4916   0.7149\n",
        "    C  0.0551  -2.7409   0.1040\n",
        "    C -3.1789   0.3865   0.4468\n",
        "    C -3.1331   1.8906   0.2221\n",
        "    C -4.3706  -0.2209  -0.2632\n",
        "    H  4.9391   1.5553   0.9384\n",
        "    H  3.7624  -0.5237   1.4643\n",
        "    H  0.1547  -0.9771  -1.1141\n",
        "    H  5.1691   1.3160  -1.5273\n",
        "    H  4.4872   2.8767  -1.0841\n",
        "    H  3.4317   1.6179  -1.7276\n",
        "    H  2.6830   1.7616   1.9906\n",
        "    H  3.1343   3.1708   1.0213\n",
        "    H  1.9667   2.0068   0.3848\n",
        "    H  1.5698  -0.5472   1.4297\n",
        "    H  5.8590  -0.6298   0.3454\n",
        "    H  4.9228  -1.9235   0.0188\n",
        "    H -3.2570   0.1680   1.5181\n",
        "    H  0.1206  -3.0401   1.1563\n",
        "    H -0.9178  -3.0722  -0.2741\n",
        "    H  0.8366  -3.2785  -0.4435\n",
        "    H -1.9914  -0.5577  -1.0374\n",
        "    H -2.2779   2.3375   0.7394\n",
        "    H -4.0529   2.3687   0.5742\n",
        "    H -2.9703   3.1174  -1.2771\n",
        "    H -6.2413  -0.6548   0.0741\n",
        "    ''',  # Coordenadas atómicas\n",
        "    basis = 'sto3g',  # Base mínima\n",
        "    symmetry = True\n",
        ")\n",
        "\n",
        "# Realizar el cálculo de Hartree-Fock\n",
        "mf = scf.RHF(mol)  # RHF es el método de Hartree-Fock para moléculas no abiertas\n",
        "energy = mf.kernel()  # Ejecuta el cálculo\n",
        "\n",
        "# Imprimir la energía total\n",
        "print(f'Energía total de la molécula: {energy} hartrees')\n"
      ],
      "metadata": {
        "colab": {
          "base_uri": "https://localhost:8080/"
        },
        "id": "p6DD24LWC-3G",
        "outputId": "831a42a0-7b82-4e47-b5f9-a5609f7b33a7"
      },
      "execution_count": null,
      "outputs": [
        {
          "output_type": "stream",
          "name": "stdout",
          "text": [
            "converged SCF energy = -954.093542350628\n",
            "Energía total de la molécula: -954.0935423506282 hartrees\n"
          ]
        }
      ]
    },
    {
      "cell_type": "code",
      "source": [
        "#gly-his-lys\n",
        "mol.build(\n",
        "    atom = '''\n",
        "    O  -0.9514    0.7191   -2.1819\n",
        "    O   1.2167   -2.4567   -3.2242\n",
        "    O   0.0294   -3.0383   -1.3799\n",
        "    O  -0.3533    3.2697    0.8076\n",
        "    N   0.2304   -0.4223   -0.5396\n",
        "    N  -2.1453    2.1788   -0.1901\n",
        "    N  -2.7619   -2.6275    0.4858\n",
        "    N   6.3869    0.7178    2.0608\n",
        "    N  -1.9841   -2.9095    2.5468\n",
        "    N  -1.0709    5.5956   -0.4748\n",
        "    C   2.5737   -1.1979   -0.6148\n",
        "    C   1.2754   -0.9435   -1.3825\n",
        "    C   3.2162    0.0571   -0.0104\n",
        "    C  -1.7390    0.8281    0.1080\n",
        "    C   4.5418   -0.2262    0.7042\n",
        "    C  -2.9380   -0.1210    0.2230\n",
        "    C  -0.8077    0.3738   -1.0109\n",
        "    C   5.1474    1.0196    1.3551\n",
        "    C  -2.6081   -1.3719    1.0027\n",
        "    C   0.7502   -2.2411   -1.9659\n",
        "    C  -1.4137    3.2984    0.1869\n",
        "    C  -2.1275   -1.5718    2.2755\n",
        "    C  -2.0921    4.5871   -0.2303\n",
        "    C  -2.3750   -3.5175    1.4488\n",
        "    H   3.2974   -1.6748   -1.2887\n",
        "    H   2.3890   -1.9215    0.1907\n",
        "    H   1.4423   -0.2331   -2.2009\n",
        "    H   3.3870    0.7927   -0.8060\n",
        "    H   2.5190    0.5154    0.7013\n",
        "    H  -1.1798    0.8634    1.0512\n",
        "    H   5.2548   -0.6485   -0.0152\n",
        "    H   4.3757   -0.9917    1.4729\n",
        "    H  -3.7605    0.3823    0.7481\n",
        "    H  -3.3187   -0.3859   -0.7718\n",
        "    H   0.2291   -0.7030    0.4368\n",
        "    H  -2.9854    2.3055   -0.7473\n",
        "    H   5.3443    1.7786    0.5898\n",
        "    H   4.4336    1.4487    2.0668\n",
        "    H  -3.0980   -2.8593   -0.4396\n",
        "    H  -1.8769   -0.8223    3.0123\n",
        "    H   7.0706    0.3400    1.4060\n",
        "    H   6.7869    1.5809    2.4263\n",
        "    H  -2.7664    4.9046    0.5712\n",
        "    H  -2.6762    4.4366   -1.1434\n",
        "    H  -2.4009   -4.5857    1.2869\n",
        "    H   0.8948   -3.3070   -3.5922\n",
        "    H  -1.5194    6.4697   -0.7460\n",
        "    H  -0.5709    5.7936    0.3913\n",
        "    '''\n",
        ")\n",
        "mf = scf.RHF(mol)  # RHF es el método de Hartree-Fock para moléculas no abiertas\n",
        "energy = mf.kernel()  # Ejecuta el cálculo\n",
        "\n",
        "# Imprimir la energía total\n",
        "print(f'Energía total de la molécula: {energy} hartrees')"
      ],
      "metadata": {
        "colab": {
          "base_uri": "https://localhost:8080/"
        },
        "id": "VeTmoPt6DP1p",
        "outputId": "13906046-33ef-40cc-b0f2-c5f36fa6c963"
      },
      "execution_count": null,
      "outputs": [
        {
          "output_type": "stream",
          "name": "stdout",
          "text": [
            "\n",
            "WARN: len(magmom) != natm. Set magmom to zero\n",
            "\n",
            "converged SCF energy = -1155.42028294751\n",
            "Energía total de la molécula: -1155.4202829475075 hartrees\n"
          ]
        }
      ]
    },
    {
      "cell_type": "code",
      "source": [
        "from pyscf import gto, scf\n",
        "\n",
        "# his-arg-val\n",
        "mol = gto.Mole()\n",
        "mol.atom = '''\n",
        "O   0.4167    1.1213    1.4803\n",
        "O   2.1182   -1.9682   -1.7099\n",
        "O  -3.6223    1.7282    0.4876\n",
        "O  -3.5415    3.8063    1.3642\n",
        "N  -1.1046    1.6522   -0.1897\n",
        "N   1.2174   -1.1261    0.2546\n",
        "N   3.1237   -3.9288    0.2064\n",
        "N  -3.9652   -2.0222   -0.0424\n",
        "N   5.5955    0.2339   -0.7202\n",
        "N   4.7604    1.6607    0.7627\n",
        "N  -6.1183   -2.0655   -0.8991\n",
        "N  -5.3382   -3.9916    0.0374\n",
        "C   0.1188   -0.4276   -0.3610\n",
        "C  -1.1182   -1.3224   -0.5095\n",
        "C  -1.5183    2.9283    0.3464\n",
        "C  -1.1713    4.0602   -0.6446\n",
        "C  -0.1604    0.8466    0.4302\n",
        "C  -1.6821   -1.8367    0.8238\n",
        "C   3.2284   -2.4797    0.3823\n",
        "C   2.1423   -1.8514   -0.4856\n",
        "C   0.3150    4.1058   -1.0124\n",
        "C  -2.0291    4.0036   -1.9116\n",
        "C  -2.8877   -2.7514    0.6286\n",
        "C   4.6199   -1.9996   -0.0550\n",
        "C  -2.9835    2.8899    0.7714\n",
        "C   4.8052   -0.5095    0.1105\n",
        "C   4.3008    0.3928    1.0172\n",
        "C   5.5374    1.5303   -0.2896\n",
        "C  -5.0590   -2.6793   -0.2730\n",
        "H   0.4376   -0.1149   -1.3641\n",
        "H  -1.9010   -0.7835   -1.0549\n",
        "H  -0.8543   -2.1881   -1.1312\n",
        "H  -0.9579    3.1006    1.2741\n",
        "H  -1.4113    5.0098   -0.1467\n",
        "H  -1.9760   -0.9867    1.4511\n",
        "H  -0.9095   -2.3903    1.3694\n",
        "H  -1.5433    1.3360   -1.0487\n",
        "H   1.3004   -1.0932    1.2666\n",
        "H   3.0660   -2.2469    1.4407\n",
        "H   0.6170    3.2294   -1.5951\n",
        "H   0.5356    4.9954   -1.6121\n",
        "H   0.9358    4.1486   -0.1114\n",
        "H  -1.8419    3.0920   -2.4882\n",
        "H  -1.8062    4.8566   -2.5621\n",
        "H  -3.0972    4.0459   -1.6766\n",
        "H  -2.5847   -3.6228    0.0353\n",
        "H  -3.2209   -3.0996    1.6137\n",
        "H   5.3927   -2.5039    0.5395\n",
        "H   4.8004   -2.2641   -1.1058\n",
        "H   2.2315   -4.2538    0.5777\n",
        "H   3.8455   -4.3927    0.7566\n",
        "H   6.1271   -0.1090   -1.5093\n",
        "H   3.6330    0.2007    1.8445\n",
        "H  -4.5529    1.7361    0.7975\n",
        "H   6.0801    2.3240   -0.7827\n",
        "H  -6.0640   -1.0953   -1.1897\n",
        "H  -6.9823   -2.5615   -1.0885\n",
        "H  -4.6672   -4.5921    0.5029\n",
        "H  -6.2362   -4.4032   -0.1931\n",
        "'''\n",
        "\n",
        "# Definir la base y el tipo de cálculo\n",
        "mol.basis = 'sto-3g'  # Puedes cambiarlo según tu preferencia\n",
        "mol.build()\n",
        "\n",
        "# Realizar un cálculo Hartree-Fock (HF) para obtener la energía\n",
        "mf = scf.RHF(mol)\n",
        "energy = mf.kernel()\n",
        "\n",
        "print(f'Energía total: {energy} Ha')\n"
      ],
      "metadata": {
        "colab": {
          "base_uri": "https://localhost:8080/"
        },
        "id": "adhTO9PeDtt2",
        "outputId": "f796d6a9-8bd1-4b5c-beb3-07c7e116fcf8"
      },
      "execution_count": null,
      "outputs": [
        {
          "output_type": "stream",
          "name": "stdout",
          "text": [
            "converged SCF energy = -1378.59437588652\n",
            "Energía total: -1378.5943758865237 Ha\n",
            "converged SCF energy = -1378.59437588652\n",
            "Energía total: -1378.5943758865228 Ha\n"
          ]
        }
      ]
    },
    {
      "cell_type": "code",
      "source": [
        "from pyscf import gto, scf\n",
        "\n",
        "# isoleucine\n",
        "atoms = [\n",
        "    ('O', (1.7318, 1.0709, -1.2228)),\n",
        "    ('O', (2.2594, 0.4785, 0.9014)),\n",
        "    ('N', (0.6284, -1.6112, 0.9265)),\n",
        "    ('C', (-0.8499, -0.1966, -0.5113)),\n",
        "    ('C', (0.5599, -0.8012, -0.2932)),\n",
        "    ('C', (-1.3284, 0.7162, 0.6425)),\n",
        "    ('C', (-1.8909, -1.2949, -0.7794)),\n",
        "    ('C', (-2.7052, 1.3375, 0.4485)),\n",
        "    ('C', (1.5949, 0.3007, -0.1121)),\n",
        "    ('H', (-0.8062, 0.4240, -1.4171)),\n",
        "    ('H', (0.8584, -1.4200, -1.1465)),\n",
        "    ('H', (-0.6102, 1.5338, 0.7760)),\n",
        "    ('H', (-1.3472, 0.1596, 1.5865)),\n",
        "    ('H', (-1.5242, -1.9957, -1.5374)),\n",
        "    ('H', (-2.1186, -1.8650, 0.1273)),\n",
        "    ('H', (-2.8257, -0.8738, -1.1625)),\n",
        "    ('H', (-2.7682, 1.8589, -0.5118)),\n",
        "    ('H', (-2.9027, 2.0653, 1.2424)),\n",
        "    ('H', (-3.4975, 0.5847, 0.4911)),\n",
        "    ('H', (0.4726, -1.0328, 1.7505)),\n",
        "    ('H', (1.5632, -2.0056, 1.0260)),\n",
        "]\n",
        "\n",
        "# Crear el objeto Mole (molécula)\n",
        "mol = gto.Mole()\n",
        "mol.build(\n",
        "    atom=atoms,\n",
        "    basis='sto-3g', # Puedes cambiar la base a una más precisa si lo deseas\n",
        "    charge=0,        # Si la molécula tiene carga, cambia este valor\n",
        "    spin=1 # Configura el spin si es necesario\n",
        ")\n",
        "\n",
        "# Ejecutar el cálculo Hartree-Fock\n",
        "mf = scf.RHF(mol) # Método Hartree-Fock para moléculas cerradas\n",
        "energy = mf.kernel()\n",
        "\n",
        "# Mostrar la energía total\n",
        "print(\"Energy (Hartree):\", energy)\n"
      ],
      "metadata": {
        "colab": {
          "base_uri": "https://localhost:8080/"
        },
        "id": "QI2RdPuTFhjd",
        "outputId": "1b2cf020-4d50-471d-8cfb-19ead066da5b"
      },
      "execution_count": null,
      "outputs": [
        {
          "output_type": "stream",
          "name": "stdout",
          "text": [
            "converged SCF energy = -432.827081047473\n",
            "Energy (Hartree): -432.82708104747286\n"
          ]
        }
      ]
    },
    {
      "cell_type": "code",
      "source": [
        "import numpy as np\n",
        "from pyscf import gto, scf\n",
        "\n",
        "# val-asp-ser\n",
        "atoms = '''\n",
        "O   2.8608  -1.1126  -1.1524\n",
        "O  -0.5884   0.9845   1.6605\n",
        "O  -3.7018   0.9120  -2.2961\n",
        "O  -2.2149  -2.9715   0.5745\n",
        "O  -0.9198  -3.0254  -1.2928\n",
        "O  -4.5004   1.7140   1.3982\n",
        "O  -4.1726  -0.3340   0.4768\n",
        "N   1.6434  -0.2438   0.6198\n",
        "N   5.1468  -0.8665   0.3389\n",
        "N  -1.6734   0.5432  -0.3432\n",
        "C   4.4072   1.4993   0.1413\n",
        "C   4.0491   0.0669   0.6032\n",
        "C   0.3428  -0.6855   0.1720\n",
        "C   2.8088  -0.4973  -0.0887\n",
        "C   3.3208   2.5394   0.4375\n",
        "C   4.7734   1.5432  -1.3454\n",
        "C  -0.0161  -2.0602   0.7300\n",
        "C  -0.6780   0.3586   0.6062\n",
        "C  -2.7315   1.5134  -0.1850\n",
        "C  -3.2380   2.0161  -1.5287\n",
        "C  -1.0700  -2.7352  -0.1131\n",
        "C  -3.8482   0.8414   0.5864\n",
        "H   5.2998   1.8097   0.7026\n",
        "H   3.8782   0.0796   1.6869\n",
        "H   0.3726  -0.7185  -0.9243\n",
        "H   1.6999   0.2557   1.5029\n",
        "H   0.8536  -2.7284   0.7427\n",
        "H  -0.3654  -1.9859   1.7671\n",
        "H   2.4223   2.3700  -0.1645\n",
        "H   3.0376   2.5129   1.4947\n",
        "H   3.6836   3.5486   0.2145\n",
        "H   3.9242   1.2733  -1.9814\n",
        "H   5.0844   2.5551  -1.6295\n",
        "H   5.6072   0.8753  -1.5826\n",
        "H  -2.3461   2.3488   0.4107\n",
        "H   4.9368  -1.7697   0.7624\n",
        "H   5.9960  -0.5313   0.7922\n",
        "H  -1.7041  -0.0649  -1.1566\n",
        "H  -2.4347   2.5080  -2.0869\n",
        "H  -4.0671   2.7192  -1.3991\n",
        "H  -4.0147   1.2670  -3.1457\n",
        "H  -2.8962  -3.4011   0.0146\n",
        "H  -5.2375   1.2828   1.8810\n",
        "'''\n",
        "\n",
        "# Creamos la molécula usando PySCF\n",
        "mol = gto.Mole()\n",
        "mol.atom = atoms\n",
        "mol.basis = 'sto-3g'\n",
        "mol.build()\n",
        "\n",
        "# Realizamos el cálculo de energía utilizando Hartree-Fock\n",
        "mf = scf.RHF(mol)\n",
        "energy = mf.kernel()\n",
        "\n",
        "print(f\"Total Hartree-Fock energy: {energy:.6f} Ha\")\n"
      ],
      "metadata": {
        "colab": {
          "base_uri": "https://localhost:8080/"
        },
        "id": "-L2QSKuzGd2S",
        "outputId": "163d05c8-33da-4e24-d71e-ab2e04b1ddd5"
      },
      "execution_count": null,
      "outputs": [
        {
          "output_type": "stream",
          "name": "stdout",
          "text": [
            "converged SCF energy = -1139.16790132249\n",
            "Total Hartree-Fock energy: -1139.167901 Ha\n"
          ]
        }
      ]
    },
    {
      "cell_type": "code",
      "source": [
        "pip install pyscf"
      ],
      "metadata": {
        "colab": {
          "base_uri": "https://localhost:8080/"
        },
        "id": "TEkfs4kEGseK",
        "outputId": "d217f6c5-ac94-451d-a39e-35e84b3ce4f5"
      },
      "execution_count": null,
      "outputs": [
        {
          "output_type": "stream",
          "name": "stdout",
          "text": [
            "Requirement already satisfied: pyscf in /usr/local/lib/python3.10/dist-packages (2.7.0)\n",
            "Requirement already satisfied: numpy!=1.16,!=1.17,>=1.13 in /usr/local/lib/python3.10/dist-packages (from pyscf) (1.26.4)\n",
            "Requirement already satisfied: scipy>=1.6.0 in /usr/local/lib/python3.10/dist-packages (from pyscf) (1.13.1)\n",
            "Requirement already satisfied: h5py>=2.7 in /usr/local/lib/python3.10/dist-packages (from pyscf) (3.12.1)\n",
            "Requirement already satisfied: setuptools in /usr/local/lib/python3.10/dist-packages (from pyscf) (75.1.0)\n"
          ]
        }
      ]
    },
    {
      "cell_type": "code",
      "source": [
        "from pyscf import gto, scf\n",
        "\n",
        "# Definir la molécula con coordenadas cartesianas\n",
        "mol = gto.Mole()\n",
        "mol.atom = '''\n",
        "O -1.545 -1.4733 -0.2634\n",
        "O -1.7308 0.3763 1.0301\n",
        "N -0.2561 1.7673 -0.8569\n",
        "C 1.3804 0.013 -0.2307\n",
        "C -0.0464 0.3243 -0.7445\n",
        "C 1.7318 -1.4774 -0.1626\n",
        "C 1.6518 0.6838 1.12\n",
        "C -1.1858 -0.2139 0.108\n",
        "H 2.0843 0.4571 -0.9495\n",
        "H -0.1592 -0.0971 -1.7516\n",
        "H 1.5567 -1.9585 -1.1304\n",
        "H 1.1288 -1.9948 0.5905\n",
        "H 2.7866 -1.6168 0.0967\n",
        "H 0.9886 0.297 1.9007\n",
        "H 2.6824 0.4931 1.4403\n",
        "H 1.5287 1.7701 1.0717\n",
        "H -1.1415 1.9507 -1.3279\n",
        "H 0.4679 2.1741 -1.4481\n",
        "H -2.2748 -1.8228 0.2912\n",
        "'''\n",
        "mol.basis = 'sto-3g'\n",
        "mol.build()\n",
        "\n",
        "# Calcular la energía con HF\n",
        "mf = scf.RHF(mol)\n",
        "energy = mf.kernel()\n",
        "\n"
      ],
      "metadata": {
        "colab": {
          "base_uri": "https://localhost:8080/"
        },
        "id": "r-UGUQdkGvS2",
        "outputId": "dcef4cf4-cf1d-463d-fe17-55dabbaab849"
      },
      "execution_count": null,
      "outputs": [
        {
          "output_type": "stream",
          "name": "stdout",
          "text": [
            "converged SCF energy = -394.847498058627\n"
          ]
        }
      ]
    }
  ],
  "metadata": {
    "colab": {
      "provenance": []
    },
    "kernelspec": {
      "display_name": "Python 3",
      "name": "python3"
    },
    "language_info": {
      "name": "python"
    }
  },
  "nbformat": 4,
  "nbformat_minor": 0
}